{
 "cells": [
  {
   "cell_type": "markdown",
   "id": "424bef31",
   "metadata": {},
   "source": [
    "# Red Wine Portfolio Project"
   ]
  },
  {
   "cell_type": "code",
   "execution_count": 1,
   "id": "83cf8926",
   "metadata": {},
   "outputs": [],
   "source": [
    "import pandas as pd\n",
    "import matplotlib.pyplot as plt\n",
    "import seaborn as sns\n",
    "import statsmodels as sm\n",
    "import numpy as np\n",
    "\n",
    "from sklearn.model_selection import train_test_split, GridSearchCV, cross_val_score, KFold\n",
    "\n",
    "from sklearn.feature_selection import VarianceThreshold\n",
    "\n",
    "from sklearn.linear_model import LinearRegression, SGDClassifier, LogisticRegression\n",
    "from sklearn.linear_model import Ridge\n",
    "from sklearn.linear_model import Lasso\n",
    "from sklearn import tree\n",
    "from sklearn.ensemble import RandomForestRegressor, RandomForestClassifier\n",
    "from sklearn.ensemble import GradientBoostingRegressor, GradientBoostingClassifier\n",
    "from sklearn.ensemble import BaggingRegressor, BaggingClassifier\n",
    "from sklearn.svm import SVR, SVC\n",
    "\n",
    "from sklearn.naive_bayes import GaussianNB\n",
    "\n",
    "from sklearn.neighbors import KNeighborsRegressor, KNeighborsClassifier\n",
    "\n",
    "from sklearn.metrics import accuracy_score, classification_report\n",
    "\n",
    "from sklearn.preprocessing import LabelEncoder\n",
    "from sklearn.preprocessing import StandardScaler\n",
    "from sklearn.preprocessing import normalize\n",
    "\n",
    "from sklearn.covariance import EllipticEnvelope\n",
    "\n",
    "from statsmodels.stats.outliers_influence import variance_inflation_factor"
   ]
  },
  {
   "cell_type": "markdown",
   "id": "bde35f96",
   "metadata": {},
   "source": [
    "## Notes\n",
    "\n",
    "1. The project has be justified in terms of business\n",
    "2. So, a wine maker wants to understand whether a wine is good or bad before they ship to market\n",
    "3. They want a model that can tell them if a wine is good or bad based on the physical properties, to gauge how well wines will be received when they go to market\n",
    "4. Justify each of our decisions [why we use a method to clean data etc]"
   ]
  },
  {
   "cell_type": "markdown",
   "id": "6b9c594e",
   "metadata": {},
   "source": [
    "## Business Justification\n",
    "\n",
    "A wine maker wants to know what makes a wine good or bad using samples analysed in a lab. They want to be able to predict whether a wine is good or bad based on its physical properties (pH, etc). They therefore get a lab to analyse a load of different wines and use this data to create a dataset that includes a quality rating for each sample [these quality samples were drawn from separate studies]. They want a machine learning model drawn up that has a workable accuracy to make these predictions."
   ]
  },
  {
   "cell_type": "markdown",
   "id": "ea8a4371",
   "metadata": {},
   "source": [
    "## 1. Obtain a Dataset.\n",
    "\n",
    "We need data to work with. This dataset is located at https://www.kaggle.com/datasets/uciml/red-wine-quality-cortez-et-al-2009.\n",
    "\n",
    "### 1a. Data Examination and Preparation\n",
    "\n",
    "Before we work with the data, we'll need to make sure the rows contain valid data. To do this we'll need to first examine the data."
   ]
  },
  {
   "cell_type": "code",
   "execution_count": 2,
   "id": "8cc52324",
   "metadata": {},
   "outputs": [
    {
     "data": {
      "text/html": [
       "<div>\n",
       "<style scoped>\n",
       "    .dataframe tbody tr th:only-of-type {\n",
       "        vertical-align: middle;\n",
       "    }\n",
       "\n",
       "    .dataframe tbody tr th {\n",
       "        vertical-align: top;\n",
       "    }\n",
       "\n",
       "    .dataframe thead th {\n",
       "        text-align: right;\n",
       "    }\n",
       "</style>\n",
       "<table border=\"1\" class=\"dataframe\">\n",
       "  <thead>\n",
       "    <tr style=\"text-align: right;\">\n",
       "      <th></th>\n",
       "      <th>fixed acidity</th>\n",
       "      <th>volatile acidity</th>\n",
       "      <th>citric acid</th>\n",
       "      <th>residual sugar</th>\n",
       "      <th>chlorides</th>\n",
       "      <th>free sulfur dioxide</th>\n",
       "      <th>total sulfur dioxide</th>\n",
       "      <th>density</th>\n",
       "      <th>pH</th>\n",
       "      <th>sulphates</th>\n",
       "      <th>alcohol</th>\n",
       "      <th>quality</th>\n",
       "    </tr>\n",
       "  </thead>\n",
       "  <tbody>\n",
       "    <tr>\n",
       "      <th>0</th>\n",
       "      <td>7.4</td>\n",
       "      <td>0.70</td>\n",
       "      <td>0.00</td>\n",
       "      <td>1.9</td>\n",
       "      <td>0.076</td>\n",
       "      <td>11.0</td>\n",
       "      <td>34.0</td>\n",
       "      <td>0.9978</td>\n",
       "      <td>3.51</td>\n",
       "      <td>0.56</td>\n",
       "      <td>9.4</td>\n",
       "      <td>5</td>\n",
       "    </tr>\n",
       "    <tr>\n",
       "      <th>1</th>\n",
       "      <td>7.8</td>\n",
       "      <td>0.88</td>\n",
       "      <td>0.00</td>\n",
       "      <td>2.6</td>\n",
       "      <td>0.098</td>\n",
       "      <td>25.0</td>\n",
       "      <td>67.0</td>\n",
       "      <td>0.9968</td>\n",
       "      <td>3.20</td>\n",
       "      <td>0.68</td>\n",
       "      <td>9.8</td>\n",
       "      <td>5</td>\n",
       "    </tr>\n",
       "    <tr>\n",
       "      <th>2</th>\n",
       "      <td>7.8</td>\n",
       "      <td>0.76</td>\n",
       "      <td>0.04</td>\n",
       "      <td>2.3</td>\n",
       "      <td>0.092</td>\n",
       "      <td>15.0</td>\n",
       "      <td>54.0</td>\n",
       "      <td>0.9970</td>\n",
       "      <td>3.26</td>\n",
       "      <td>0.65</td>\n",
       "      <td>9.8</td>\n",
       "      <td>5</td>\n",
       "    </tr>\n",
       "    <tr>\n",
       "      <th>3</th>\n",
       "      <td>11.2</td>\n",
       "      <td>0.28</td>\n",
       "      <td>0.56</td>\n",
       "      <td>1.9</td>\n",
       "      <td>0.075</td>\n",
       "      <td>17.0</td>\n",
       "      <td>60.0</td>\n",
       "      <td>0.9980</td>\n",
       "      <td>3.16</td>\n",
       "      <td>0.58</td>\n",
       "      <td>9.8</td>\n",
       "      <td>6</td>\n",
       "    </tr>\n",
       "    <tr>\n",
       "      <th>4</th>\n",
       "      <td>7.4</td>\n",
       "      <td>0.70</td>\n",
       "      <td>0.00</td>\n",
       "      <td>1.9</td>\n",
       "      <td>0.076</td>\n",
       "      <td>11.0</td>\n",
       "      <td>34.0</td>\n",
       "      <td>0.9978</td>\n",
       "      <td>3.51</td>\n",
       "      <td>0.56</td>\n",
       "      <td>9.4</td>\n",
       "      <td>5</td>\n",
       "    </tr>\n",
       "  </tbody>\n",
       "</table>\n",
       "</div>"
      ],
      "text/plain": [
       "   fixed acidity  volatile acidity  citric acid  residual sugar  chlorides  \\\n",
       "0            7.4              0.70         0.00             1.9      0.076   \n",
       "1            7.8              0.88         0.00             2.6      0.098   \n",
       "2            7.8              0.76         0.04             2.3      0.092   \n",
       "3           11.2              0.28         0.56             1.9      0.075   \n",
       "4            7.4              0.70         0.00             1.9      0.076   \n",
       "\n",
       "   free sulfur dioxide  total sulfur dioxide  density    pH  sulphates  \\\n",
       "0                 11.0                  34.0   0.9978  3.51       0.56   \n",
       "1                 25.0                  67.0   0.9968  3.20       0.68   \n",
       "2                 15.0                  54.0   0.9970  3.26       0.65   \n",
       "3                 17.0                  60.0   0.9980  3.16       0.58   \n",
       "4                 11.0                  34.0   0.9978  3.51       0.56   \n",
       "\n",
       "   alcohol  quality  \n",
       "0      9.4        5  \n",
       "1      9.8        5  \n",
       "2      9.8        5  \n",
       "3      9.8        6  \n",
       "4      9.4        5  "
      ]
     },
     "execution_count": 2,
     "metadata": {},
     "output_type": "execute_result"
    }
   ],
   "source": [
    "wine = pd.read_csv('winequality-red.csv')\n",
    "df = pd.DataFrame(wine)\n",
    "df.head()"
   ]
  },
  {
   "cell_type": "code",
   "execution_count": 3,
   "id": "ac972fc8",
   "metadata": {},
   "outputs": [
    {
     "name": "stdout",
     "output_type": "stream",
     "text": [
      "<class 'pandas.core.frame.DataFrame'>\n",
      "RangeIndex: 1599 entries, 0 to 1598\n",
      "Data columns (total 12 columns):\n",
      " #   Column                Non-Null Count  Dtype  \n",
      "---  ------                --------------  -----  \n",
      " 0   fixed acidity         1599 non-null   float64\n",
      " 1   volatile acidity      1599 non-null   float64\n",
      " 2   citric acid           1599 non-null   float64\n",
      " 3   residual sugar        1599 non-null   float64\n",
      " 4   chlorides             1599 non-null   float64\n",
      " 5   free sulfur dioxide   1599 non-null   float64\n",
      " 6   total sulfur dioxide  1599 non-null   float64\n",
      " 7   density               1599 non-null   float64\n",
      " 8   pH                    1599 non-null   float64\n",
      " 9   sulphates             1599 non-null   float64\n",
      " 10  alcohol               1599 non-null   float64\n",
      " 11  quality               1599 non-null   int64  \n",
      "dtypes: float64(11), int64(1)\n",
      "memory usage: 150.0 KB\n"
     ]
    }
   ],
   "source": [
    "df.info()"
   ]
  },
  {
   "cell_type": "code",
   "execution_count": 4,
   "id": "573971f2",
   "metadata": {
    "scrolled": true
   },
   "outputs": [
    {
     "data": {
      "text/plain": [
       "fixed acidity           0\n",
       "volatile acidity        0\n",
       "citric acid             0\n",
       "residual sugar          0\n",
       "chlorides               0\n",
       "free sulfur dioxide     0\n",
       "total sulfur dioxide    0\n",
       "density                 0\n",
       "pH                      0\n",
       "sulphates               0\n",
       "alcohol                 0\n",
       "quality                 0\n",
       "dtype: int64"
      ]
     },
     "execution_count": 4,
     "metadata": {},
     "output_type": "execute_result"
    }
   ],
   "source": [
    "df.isnull().sum()"
   ]
  },
  {
   "cell_type": "code",
   "execution_count": 5,
   "id": "5fbe8c58",
   "metadata": {},
   "outputs": [],
   "source": [
    "df.rename(columns={'fixed acidity': 'fixed_acidity',\n",
    "                   'volatile acidity': 'volatile_acidity',\n",
    "                   'citric acid':'citric_acid',\n",
    "                   'residual sugar':'residual_sugar',\n",
    "                   'free sulfur dioxide':'free_sulfur_dioxide',\n",
    "                   'total sulfur dioxide':'total_sulfur_dioxide'}, inplace=True)"
   ]
  },
  {
   "cell_type": "markdown",
   "id": "91fe8528",
   "metadata": {},
   "source": [
    "## 2. Model Drafting\n",
    "\n",
    "We have our x/y, features/target, data/labels sorted.\n",
    "\n",
    "I think it's a good idea at this point to put a number of different models together. We can then measure the accuracy_score of these models against each other and get an idea of the kind of model we want to use to get the best possible prediction.\n",
    "\n",
    "How many different types of value are in our target column ```quality```?"
   ]
  },
  {
   "cell_type": "code",
   "execution_count": 6,
   "id": "07a78370",
   "metadata": {
    "scrolled": false
   },
   "outputs": [
    {
     "data": {
      "text/plain": [
       "5    681\n",
       "6    638\n",
       "7    199\n",
       "4     53\n",
       "8     18\n",
       "3     10\n",
       "Name: quality, dtype: int64"
      ]
     },
     "execution_count": 6,
     "metadata": {},
     "output_type": "execute_result"
    }
   ],
   "source": [
    "x=df.iloc[:,0:-1]\n",
    "y=df.iloc[:,-1]\n",
    "y.value_counts()"
   ]
  },
  {
   "cell_type": "markdown",
   "id": "592a8b12",
   "metadata": {},
   "source": [
    "Not too many. This is good, because it means we can use label encoding to treat it as a classification problem, not just a regression one. Let's try some different models and compare their ```accuracy_score```. \n",
    "\n",
    "Let's scale the data."
   ]
  },
  {
   "cell_type": "code",
   "execution_count": 38,
   "id": "8d408ba1",
   "metadata": {},
   "outputs": [],
   "source": [
    "sc = StandardScaler()"
   ]
  },
  {
   "cell_type": "code",
   "execution_count": 39,
   "id": "e962e1da",
   "metadata": {},
   "outputs": [],
   "source": [
    "def get_scaled_data(x, y, split, ran_state):\n",
    "\n",
    "    x_train, x_test, y_train, y_test = train_test_split(x, y, test_size=split,random_state=ran_state)\n",
    "    x_train = sc.fit_transform(x_train)\n",
    "    x_test = sc.fit_transform(x_test)\n",
    "    \n",
    "    return x_train, x_test, y_train, y_test"
   ]
  },
  {
   "cell_type": "markdown",
   "id": "e12d8d67",
   "metadata": {},
   "source": [
    "Let's facilitate getting programmatical representations of our independent and dependent variables, also known as x and y."
   ]
  },
  {
   "cell_type": "code",
   "execution_count": 18,
   "id": "cabe5ced",
   "metadata": {},
   "outputs": [],
   "source": [
    "def get_xy_vars(dataframe):\n",
    "    \n",
    "    # turn dataframe into x and y\n",
    "    # y is last column of dataframe\n",
    "    x=dataframe.iloc[:,0:-1]\n",
    "    y=dataframe.iloc[:,-1]\n",
    "    \n",
    "    return x, y "
   ]
  },
  {
   "cell_type": "code",
   "execution_count": 19,
   "id": "4315030f",
   "metadata": {},
   "outputs": [],
   "source": [
    "# factorise displaying linear regression model results\n",
    "\n",
    "def print_linear_models_results(model_names_list, model_list, x_train, y_train, x_test, y_test):\n",
    "    \n",
    "    print('Regression Models:')\n",
    "    for i in range(len(model_list)):\n",
    "        print(model_names_list[i])\n",
    "        print(model_list[i].score(x_train, y_train), model_list[i].score(x_test, y_test), '\\n')"
   ]
  },
  {
   "cell_type": "code",
   "execution_count": 20,
   "id": "497fbcd6",
   "metadata": {},
   "outputs": [],
   "source": [
    "# factorise displaying classification model results\n",
    "\n",
    "def print_classification_models_results(model_names_list, model_list, x_train, y_train, x_test, y_test):\n",
    "    \n",
    "    print('Classification Models:')\n",
    "    for i in range(len(model_list)):\n",
    "        try:\n",
    "            print(model_names_list[i])\n",
    "            print(model_list[i].score(x_train, y_train), model_list[i].score(x_test, y_test))\n",
    "            print(f'Accuracy score: {round(accuracy_score(y_test, model_list[i].predict(x_test)) * 100, 2)}%', '\\n')\n",
    "        except ValueError as e:\n",
    "            print('\\n')"
   ]
  },
  {
   "cell_type": "code",
   "execution_count": 24,
   "id": "1dba1458",
   "metadata": {},
   "outputs": [],
   "source": [
    "# we can use cross validation to prevent overfitting on our decision tree based models\n",
    "\n",
    "def print_cross_val_model_results(model_names_list, model_list, x, y, k, x_train, y_train, x_test, y_test):\n",
    "\n",
    "    print('Models using K-Fold Cross Validation:')\n",
    "    for i in range(len(model_list)):\n",
    "        kf = KFold(n_splits=k, random_state=None)\n",
    "        print(model_names_list[i])\n",
    "        print(cross_val_score(model_list[i], x, y, cv = kf), '\\n')"
   ]
  },
  {
   "cell_type": "code",
   "execution_count": 25,
   "id": "8caf4a33",
   "metadata": {},
   "outputs": [],
   "source": [
    "# let's make a function that runs a given dataset through a variety of models and prints the results\n",
    "# this saves us copy and pasting a million cells to get a ballpark figure of how well models handle our data\n",
    "\n",
    "# I have parameterised the random forest models to prevent overfitting, this was done after the fact but their\n",
    "# accuracy did improve\n",
    "\n",
    "def model_draft(dataframe, split, ran_state):\n",
    "    \n",
    "    x, y = get_xy_vars(dataframe)\n",
    "    \n",
    "    x_train, x_test, y_train, y_test = get_scaled_data(x, y, 0.3, 100)\n",
    "    \n",
    "    # regression\n",
    "    r_model = LinearRegression().fit(x_train, y_train)\n",
    "    lr_model = Lasso().fit(x_train, y_train)\n",
    "    rr_model = Ridge().fit(x_train, y_train)\n",
    "    \n",
    "    # dt based models\n",
    "    dtr_model = tree.DecisionTreeRegressor().fit(x_train, y_train)\n",
    "    rfr_model = RandomForestRegressor(n_estimators=100, max_features=3, max_depth=10, random_state=100).fit(x_train, y_train)\n",
    "    gbr_model = GradientBoostingRegressor(random_state=0, max_depth=1, learning_rate=0.1).fit(x_train, y_train)\n",
    "    \n",
    "    br_model = BaggingRegressor(estimator=RandomForestRegressor(), random_state=0).fit(x_train, y_train)\n",
    "    svr_model = SVR().fit(x_train, y_train)\n",
    "    \n",
    "    reg_model_names = ['Linear Regression', 'Lasso Regression', 'Ridge Regression', 'Decision Tree Regressor',\n",
    "                      'Random Forest Regressor', 'Gradient Boosting Regressor', ' Bagging Regressor', \n",
    "                       'Support Vector Regressor']\n",
    "    reg_model_list = [r_model, lr_model, rr_model, dtr_model, rfr_model, gbr_model, br_model, svr_model]\n",
    "    \n",
    "    # classification\n",
    "    log_reg_model = LogisticRegression(solver='liblinear', random_state = 42).fit(x_train, y_train)\n",
    "    gn_model = GaussianNB().fit(x_train, y_train)\n",
    "    \n",
    "    # dt based models\n",
    "    dtc_model = tree.DecisionTreeClassifier().fit(x_train, y_train)\n",
    "    rfc_model = RandomForestClassifier(n_estimators=100, max_features=3, max_depth=10, random_state=100).fit(x_train, y_train)\n",
    "    gbc_model = GradientBoostingClassifier(random_state=0, max_depth=1, learning_rate=0.1).fit(x_train, y_train)\n",
    "    \n",
    "    bc_model = BaggingRegressor(estimator=RandomForestRegressor(), random_state=0).fit(x_train, y_train)\n",
    "    svc_model = SVC().fit(x_train, y_train)\n",
    "    \n",
    "    #classification model list\n",
    "    class_model_names = ['Logistic Regression', 'Gaussian Naive Bayes', 'Decision Tree Classifier',\n",
    "                      'Random Forest Classifier', 'Gradient Boosting Classifier', 'Support Vector Classifier', \n",
    "                         'Bagging Classifier']\n",
    "    class_model_list = [log_reg_model, gn_model, dtc_model, rfc_model, gbc_model, svc_model, bc_model]\n",
    "    \n",
    "    # cross val models list\n",
    "    cross_val_model_names = ['Decision Tree Regressor', 'Random Forest Regressor', 'Decision Tree Classifier',\n",
    "                             'Random Forest Classifier']\n",
    "    cross_val_models = [dtr_model, rfr_model, dtc_model, rfc_model]\n",
    "    \n",
    "    #clustering\n",
    "    knn_model = KNeighborsRegressor(n_neighbors=20).fit(x_train,y_train)\n",
    "    \n",
    "    #print results\n",
    "    print_linear_models_results(reg_model_names, reg_model_list, x_train, y_train, x_test, y_test)\n",
    "    print_classification_models_results(class_model_names, class_model_list, x_train, y_train, x_test, y_test)\n",
    "    print_cross_val_model_results(cross_val_model_names, cross_val_models, x, y, 5, x_train, y_train, x_test, y_test)\n",
    "\n",
    "    print('Clustering models: ')\n",
    "    print(f'K nearest neighbour model score: {knn_model.score(x_train, y_train), knn_model.score(x_test, y_test)}')"
   ]
  },
  {
   "cell_type": "code",
   "execution_count": 26,
   "id": "633cd3f9",
   "metadata": {
    "scrolled": false
   },
   "outputs": [
    {
     "name": "stdout",
     "output_type": "stream",
     "text": [
      "Regression Models:\n",
      "Linear Regression\n",
      "0.3789850924185246 0.30982136911078295 \n",
      "\n",
      "Lasso Regression\n",
      "0.0 -0.0003885159356080692 \n",
      "\n",
      "Ridge Regression\n",
      "0.37898481340679846 0.3098790479133421 \n",
      "\n",
      "Decision Tree Regressor\n",
      "1.0 -0.16802610114192507 \n",
      "\n",
      "Random Forest Regressor\n",
      "0.833159555424698 0.4067233205718722 \n",
      "\n",
      "Gradient Boosting Regressor\n",
      "0.43283295214705875 0.3351072299155202 \n",
      "\n",
      " Bagging Regressor\n",
      "0.7907133599602001 0.40903759869494294 \n",
      "\n",
      "Support Vector Regressor\n",
      "0.5474468475061478 0.3770973023630122 \n",
      "\n",
      "Classification Models:\n",
      "Logistic Regression\n",
      "0.6085790884718498 0.59375\n",
      "Accuracy score: 59.38% \n",
      "\n",
      "Gaussian Naive Bayes\n",
      "0.5647899910634495 0.5375\n",
      "Accuracy score: 53.75% \n",
      "\n",
      "Decision Tree Classifier\n",
      "1.0 0.55625\n",
      "Accuracy score: 55.62% \n",
      "\n",
      "Random Forest Classifier\n",
      "0.968722073279714 0.6583333333333333\n",
      "Accuracy score: 65.83% \n",
      "\n",
      "Gradient Boosting Classifier\n",
      "0.644325290437891 0.6\n",
      "Accuracy score: 60.0% \n",
      "\n",
      "Support Vector Classifier\n",
      "0.675603217158177 0.6354166666666666\n",
      "Accuracy score: 63.54% \n",
      "\n",
      "Bagging Classifier\n",
      "0.7907133599602001 0.40903759869494294\n",
      "\n",
      "\n",
      "Models using K-Fold Cross Validation:\n",
      "Decision Tree Regressor\n",
      "[-0.43118149 -0.1679004  -0.39967695 -0.22834219 -0.52908746] \n",
      "\n",
      "Random Forest Regressor\n",
      "[0.2587953  0.35662307 0.38908018 0.34866543 0.29968975] \n",
      "\n",
      "Decision Tree Classifier\n",
      "[0.5        0.484375   0.375      0.415625   0.50783699] \n",
      "\n",
      "Random Forest Classifier\n",
      "[0.603125   0.53125    0.59375    0.565625   0.59561129] \n",
      "\n",
      "Clustering models: \n",
      "K nearest neighbour model score: (0.41700567113262277, 0.2742740619902121)\n"
     ]
    }
   ],
   "source": [
    "model_draft(df, 0.3, 100)"
   ]
  },
  {
   "cell_type": "markdown",
   "id": "d163b1c9",
   "metadata": {},
   "source": [
    "n_estimators: @Falcon is wrong, in general the more trees the less likely the algorithm is to overfit. So try increasing this. The lower this number, the closer the model is to a decision tree, with a restricted feature set.\n",
    "\n",
    "max_features: try reducing this number (try 30-50% of the number of features). This determines how many features each tree is randomly assigned. The smaller, the less likely to overfit, but too small will start to introduce under fitting.\n",
    "\n",
    "max_depth: Experiment with this. This will reduce the complexity of the learned models, lowering over fitting risk. Try starting small, say 5-10, and increasing you get the best result.\n",
    "\n",
    "min_samples_leaf: Try setting this to values greater than one. This has a similar effect to the max_depth parameter, it means the branch will stop splitting once the leaves have that number of samples each.\n"
   ]
  },
  {
   "cell_type": "markdown",
   "id": "2e9d0663",
   "metadata": {},
   "source": [
    "Now we have an idea of how our models are performing, we can try and optimise them. The first method we will use is to remove outliers."
   ]
  },
  {
   "cell_type": "markdown",
   "id": "cea9ba9a",
   "metadata": {},
   "source": [
    "## 3. Clean Data\n",
    "\n",
    "Let's clean our data. First we'll check for missing values."
   ]
  },
  {
   "cell_type": "code",
   "execution_count": 27,
   "id": "fbd98720",
   "metadata": {
    "scrolled": true
   },
   "outputs": [
    {
     "data": {
      "text/plain": [
       "fixed_acidity           0\n",
       "volatile_acidity        0\n",
       "citric_acid             0\n",
       "residual_sugar          0\n",
       "chlorides               0\n",
       "free_sulfur_dioxide     0\n",
       "total_sulfur_dioxide    0\n",
       "density                 0\n",
       "pH                      0\n",
       "sulphates               0\n",
       "alcohol                 0\n",
       "quality                 0\n",
       "dtype: int64"
      ]
     },
     "execution_count": 27,
     "metadata": {},
     "output_type": "execute_result"
    }
   ],
   "source": [
    "df.isnull().sum()"
   ]
  },
  {
   "cell_type": "markdown",
   "id": "ace4dcbc",
   "metadata": {},
   "source": [
    "Our data has no missing values, since there are no null values.\n",
    "\n",
    "Let's see how the targets - values in the ```quality``` column - are distributed."
   ]
  },
  {
   "cell_type": "code",
   "execution_count": 28,
   "id": "db2f04d2",
   "metadata": {},
   "outputs": [
    {
     "data": {
      "text/plain": [
       "5    681\n",
       "6    638\n",
       "7    199\n",
       "4     53\n",
       "8     18\n",
       "3     10\n",
       "Name: quality, dtype: int64"
      ]
     },
     "execution_count": 28,
     "metadata": {},
     "output_type": "execute_result"
    }
   ],
   "source": [
    "df['quality'].value_counts()"
   ]
  },
  {
   "cell_type": "markdown",
   "id": "4650c4b4",
   "metadata": {},
   "source": [
    "As we can see, most of the rows in our data have a quality of 5.0 and 6.0. Let's structure these values in human terms so we can understand them better."
   ]
  },
  {
   "cell_type": "code",
   "execution_count": 29,
   "id": "3dc8c536",
   "metadata": {},
   "outputs": [],
   "source": [
    "threes = 5\n",
    "fours = 42\n",
    "fives = 566\n",
    "sixes = 554\n",
    "sevens = 159\n",
    "eights = 11"
   ]
  },
  {
   "cell_type": "markdown",
   "id": "e5ccb5a1",
   "metadata": {},
   "source": [
    "This gives us an idea of how people are likely to judge wines. They are apparently drinking variations on the Portuguese \"Vinho Verde\" wine. A quick google tells me that the Portugese are the biggest wine drinkers in the world per capita (https://www.therealreview.com/2022/08/04/top-ten-wine-consumers/). \n",
    "\n",
    "Let's make a trial dataset of the best represented data and see how it runs.\n",
    "\n",
    "### 3a. Normalise the Dataset"
   ]
  },
  {
   "cell_type": "code",
   "execution_count": 30,
   "id": "bbf77582",
   "metadata": {
    "scrolled": false
   },
   "outputs": [
    {
     "data": {
      "text/plain": [
       "[(681, 5), (638, 6), (199, 7), (53, 4), (18, 8), (10, 3)]"
      ]
     },
     "execution_count": 30,
     "metadata": {},
     "output_type": "execute_result"
    }
   ],
   "source": [
    "# remove rows containing one of list of values\n",
    "counts = df['quality'].value_counts()\n",
    "\n",
    "counts = df['quality'].value_counts().tolist()\n",
    "indexes = df['quality'].value_counts().index.tolist()\n",
    "\n",
    "data_distro = [(count, idx) for count, idx in zip(counts, indexes)]\n",
    "data_distro"
   ]
  },
  {
   "cell_type": "markdown",
   "id": "d0ea69af",
   "metadata": {},
   "source": [
    "So we have 681 rows of data about wine with a quality of 5, 638 for 6, etc.\n",
    "\n",
    "We only have 10 datapoints for wines with a quality of 3, 18 for a quality of 8, etc. This is the data we are using to train our model, so while by using it we may be able to predict a greater range of values, it doesn't have too much to go on. What's more likely is that these underrepresented targets ['quality' column in the dataframe] will interfere with our models ability to predict targets for data which it does have. So rather than broadening the scope of what our model will predict, the outlier data interferes with its ability to predict based on what it does know. \n",
    "\n",
    "We can't use underrepresented targets in our dataset. But we can deal with them in different ways.\n",
    "\n",
    "Firstly, we can take every row with a quality value of less than 5 or greater than 6 and round to those numbers respectively. This is basically a way of just saying wines in those categories are either good or bad, which is fair. This might help our model to predict things.   \n",
    "\n",
    "The second way is to simply use the best two represented targets/labels. This allows us to treat the problem as a classification one. \n",
    "\n",
    "Both of these approaches are valid, and we will see how either one affects our accuracy."
   ]
  },
  {
   "cell_type": "markdown",
   "id": "adf6aadb",
   "metadata": {},
   "source": [
    "#### Approximate Quality to Good or Bad\n",
    "\n",
    "Let's go through our dataset, find the rows with a quality that isn't 5 or 6, and round them to 5 or 6 respectively."
   ]
  },
  {
   "cell_type": "code",
   "execution_count": 31,
   "id": "4af0ffe6",
   "metadata": {},
   "outputs": [],
   "source": [
    "def approximate_quality_values(dataframe):\n",
    "    \n",
    "    # iterate through every row of our dataframe, round quality values to good or bad\n",
    "    for (idx, row) in dataframe.iterrows():\n",
    "        if row.loc['quality'] < 5:\n",
    "            row.loc['quality'] = 5.0\n",
    "        elif row.loc['quality'] > 6:\n",
    "            row.loc['quality'] = 6.0\n",
    "    return dataframe\n",
    "        \n",
    "inclusive_df = approximate_quality_values(df)"
   ]
  },
  {
   "cell_type": "code",
   "execution_count": 32,
   "id": "de3f065e",
   "metadata": {
    "scrolled": true
   },
   "outputs": [
    {
     "name": "stdout",
     "output_type": "stream",
     "text": [
      "Regression Models:\n",
      "Linear Regression\n",
      "0.3789850924185246 0.30982136911078295 \n",
      "\n",
      "Lasso Regression\n",
      "0.0 -0.0003885159356080692 \n",
      "\n",
      "Ridge Regression\n",
      "0.37898481340679846 0.3098790479133421 \n",
      "\n",
      "Decision Tree Regressor\n",
      "1.0 -0.2495921696574226 \n",
      "\n",
      "Random Forest Regressor\n",
      "0.833159555424698 0.4067233205718722 \n",
      "\n",
      "Gradient Boosting Regressor\n",
      "0.43283295214705875 0.3351072299155202 \n",
      "\n",
      " Bagging Regressor\n",
      "0.7907133599602001 0.40903759869494294 \n",
      "\n",
      "Support Vector Regressor\n",
      "0.5474468475061478 0.3770973023630122 \n",
      "\n",
      "Classification Models:\n",
      "Logistic Regression\n",
      "0.6085790884718498 0.59375\n",
      "Accuracy score: 59.38% \n",
      "\n",
      "Gaussian Naive Bayes\n",
      "0.5647899910634495 0.5375\n",
      "Accuracy score: 53.75% \n",
      "\n",
      "Decision Tree Classifier\n",
      "1.0 0.5666666666666667\n",
      "Accuracy score: 56.67% \n",
      "\n",
      "Random Forest Classifier\n",
      "0.968722073279714 0.6583333333333333\n",
      "Accuracy score: 65.83% \n",
      "\n",
      "Gradient Boosting Classifier\n",
      "0.644325290437891 0.6\n",
      "Accuracy score: 60.0% \n",
      "\n",
      "Support Vector Classifier\n",
      "0.675603217158177 0.6354166666666666\n",
      "Accuracy score: 63.54% \n",
      "\n",
      "Bagging Classifier\n",
      "0.7907133599602001 0.40903759869494294\n",
      "\n",
      "\n",
      "Models using K-Fold Cross Validation:\n",
      "Decision Tree Regressor\n",
      "[-0.39464068 -0.23853954 -0.25330551 -0.16572082 -0.52386873] \n",
      "\n",
      "Random Forest Regressor\n",
      "[0.2587953  0.35662307 0.38908018 0.34866543 0.29968975] \n",
      "\n",
      "Decision Tree Classifier\n",
      "[0.5125     0.484375   0.396875   0.425      0.51410658] \n",
      "\n",
      "Random Forest Classifier\n",
      "[0.603125   0.53125    0.59375    0.565625   0.59561129] \n",
      "\n",
      "Clustering models: \n",
      "K nearest neighbour model score: (0.41700567113262277, 0.2742740619902121)\n"
     ]
    }
   ],
   "source": [
    "model_draft(inclusive_df, 0.3, 100)"
   ]
  },
  {
   "cell_type": "markdown",
   "id": "c593657b",
   "metadata": {},
   "source": [
    "Doesn't seem to have changed much. \n",
    "\n",
    "### Normalising the Dataset by Representation\n",
    "\n",
    "Let's try removing the underrepresented datapoints from our dataset."
   ]
  },
  {
   "cell_type": "code",
   "execution_count": 33,
   "id": "d9630856",
   "metadata": {},
   "outputs": [
    {
     "data": {
      "text/plain": [
       "(681, 638, 199)"
      ]
     },
     "execution_count": 33,
     "metadata": {},
     "output_type": "execute_result"
    }
   ],
   "source": [
    "fives = df.loc[df['quality'] == 5]\n",
    "sixes = df.loc[df['quality'] == 6]\n",
    "sevens = df.loc[df['quality'] == 7]\n",
    "len(fives), len(sixes), len(sevens)"
   ]
  },
  {
   "cell_type": "markdown",
   "id": "5dc7ecc2",
   "metadata": {},
   "source": [
    "Let's create an empty copy of our dataset and concatenate our data subsets with it."
   ]
  },
  {
   "cell_type": "code",
   "execution_count": 34,
   "id": "4e5d6550",
   "metadata": {},
   "outputs": [],
   "source": [
    "main_df = pd.DataFrame()"
   ]
  },
  {
   "cell_type": "code",
   "execution_count": 35,
   "id": "4c03d577",
   "metadata": {
    "scrolled": true
   },
   "outputs": [
    {
     "data": {
      "text/html": [
       "<div>\n",
       "<style scoped>\n",
       "    .dataframe tbody tr th:only-of-type {\n",
       "        vertical-align: middle;\n",
       "    }\n",
       "\n",
       "    .dataframe tbody tr th {\n",
       "        vertical-align: top;\n",
       "    }\n",
       "\n",
       "    .dataframe thead th {\n",
       "        text-align: right;\n",
       "    }\n",
       "</style>\n",
       "<table border=\"1\" class=\"dataframe\">\n",
       "  <thead>\n",
       "    <tr style=\"text-align: right;\">\n",
       "      <th></th>\n",
       "      <th>fixed_acidity</th>\n",
       "      <th>volatile_acidity</th>\n",
       "      <th>citric_acid</th>\n",
       "      <th>residual_sugar</th>\n",
       "      <th>chlorides</th>\n",
       "      <th>free_sulfur_dioxide</th>\n",
       "      <th>total_sulfur_dioxide</th>\n",
       "      <th>density</th>\n",
       "      <th>pH</th>\n",
       "      <th>sulphates</th>\n",
       "      <th>alcohol</th>\n",
       "      <th>quality</th>\n",
       "    </tr>\n",
       "  </thead>\n",
       "  <tbody>\n",
       "    <tr>\n",
       "      <th>0</th>\n",
       "      <td>7.4</td>\n",
       "      <td>0.70</td>\n",
       "      <td>0.00</td>\n",
       "      <td>1.9</td>\n",
       "      <td>0.076</td>\n",
       "      <td>11.0</td>\n",
       "      <td>34.0</td>\n",
       "      <td>0.99780</td>\n",
       "      <td>3.51</td>\n",
       "      <td>0.56</td>\n",
       "      <td>9.4</td>\n",
       "      <td>5</td>\n",
       "    </tr>\n",
       "    <tr>\n",
       "      <th>1</th>\n",
       "      <td>7.8</td>\n",
       "      <td>0.88</td>\n",
       "      <td>0.00</td>\n",
       "      <td>2.6</td>\n",
       "      <td>0.098</td>\n",
       "      <td>25.0</td>\n",
       "      <td>67.0</td>\n",
       "      <td>0.99680</td>\n",
       "      <td>3.20</td>\n",
       "      <td>0.68</td>\n",
       "      <td>9.8</td>\n",
       "      <td>5</td>\n",
       "    </tr>\n",
       "    <tr>\n",
       "      <th>2</th>\n",
       "      <td>7.8</td>\n",
       "      <td>0.76</td>\n",
       "      <td>0.04</td>\n",
       "      <td>2.3</td>\n",
       "      <td>0.092</td>\n",
       "      <td>15.0</td>\n",
       "      <td>54.0</td>\n",
       "      <td>0.99700</td>\n",
       "      <td>3.26</td>\n",
       "      <td>0.65</td>\n",
       "      <td>9.8</td>\n",
       "      <td>5</td>\n",
       "    </tr>\n",
       "    <tr>\n",
       "      <th>4</th>\n",
       "      <td>7.4</td>\n",
       "      <td>0.70</td>\n",
       "      <td>0.00</td>\n",
       "      <td>1.9</td>\n",
       "      <td>0.076</td>\n",
       "      <td>11.0</td>\n",
       "      <td>34.0</td>\n",
       "      <td>0.99780</td>\n",
       "      <td>3.51</td>\n",
       "      <td>0.56</td>\n",
       "      <td>9.4</td>\n",
       "      <td>5</td>\n",
       "    </tr>\n",
       "    <tr>\n",
       "      <th>5</th>\n",
       "      <td>7.4</td>\n",
       "      <td>0.66</td>\n",
       "      <td>0.00</td>\n",
       "      <td>1.8</td>\n",
       "      <td>0.075</td>\n",
       "      <td>13.0</td>\n",
       "      <td>40.0</td>\n",
       "      <td>0.99780</td>\n",
       "      <td>3.51</td>\n",
       "      <td>0.56</td>\n",
       "      <td>9.4</td>\n",
       "      <td>5</td>\n",
       "    </tr>\n",
       "    <tr>\n",
       "      <th>...</th>\n",
       "      <td>...</td>\n",
       "      <td>...</td>\n",
       "      <td>...</td>\n",
       "      <td>...</td>\n",
       "      <td>...</td>\n",
       "      <td>...</td>\n",
       "      <td>...</td>\n",
       "      <td>...</td>\n",
       "      <td>...</td>\n",
       "      <td>...</td>\n",
       "      <td>...</td>\n",
       "      <td>...</td>\n",
       "    </tr>\n",
       "    <tr>\n",
       "      <th>1592</th>\n",
       "      <td>6.3</td>\n",
       "      <td>0.51</td>\n",
       "      <td>0.13</td>\n",
       "      <td>2.3</td>\n",
       "      <td>0.076</td>\n",
       "      <td>29.0</td>\n",
       "      <td>40.0</td>\n",
       "      <td>0.99574</td>\n",
       "      <td>3.42</td>\n",
       "      <td>0.75</td>\n",
       "      <td>11.0</td>\n",
       "      <td>6</td>\n",
       "    </tr>\n",
       "    <tr>\n",
       "      <th>1593</th>\n",
       "      <td>6.8</td>\n",
       "      <td>0.62</td>\n",
       "      <td>0.08</td>\n",
       "      <td>1.9</td>\n",
       "      <td>0.068</td>\n",
       "      <td>28.0</td>\n",
       "      <td>38.0</td>\n",
       "      <td>0.99651</td>\n",
       "      <td>3.42</td>\n",
       "      <td>0.82</td>\n",
       "      <td>9.5</td>\n",
       "      <td>6</td>\n",
       "    </tr>\n",
       "    <tr>\n",
       "      <th>1595</th>\n",
       "      <td>5.9</td>\n",
       "      <td>0.55</td>\n",
       "      <td>0.10</td>\n",
       "      <td>2.2</td>\n",
       "      <td>0.062</td>\n",
       "      <td>39.0</td>\n",
       "      <td>51.0</td>\n",
       "      <td>0.99512</td>\n",
       "      <td>3.52</td>\n",
       "      <td>0.76</td>\n",
       "      <td>11.2</td>\n",
       "      <td>6</td>\n",
       "    </tr>\n",
       "    <tr>\n",
       "      <th>1596</th>\n",
       "      <td>6.3</td>\n",
       "      <td>0.51</td>\n",
       "      <td>0.13</td>\n",
       "      <td>2.3</td>\n",
       "      <td>0.076</td>\n",
       "      <td>29.0</td>\n",
       "      <td>40.0</td>\n",
       "      <td>0.99574</td>\n",
       "      <td>3.42</td>\n",
       "      <td>0.75</td>\n",
       "      <td>11.0</td>\n",
       "      <td>6</td>\n",
       "    </tr>\n",
       "    <tr>\n",
       "      <th>1598</th>\n",
       "      <td>6.0</td>\n",
       "      <td>0.31</td>\n",
       "      <td>0.47</td>\n",
       "      <td>3.6</td>\n",
       "      <td>0.067</td>\n",
       "      <td>18.0</td>\n",
       "      <td>42.0</td>\n",
       "      <td>0.99549</td>\n",
       "      <td>3.39</td>\n",
       "      <td>0.66</td>\n",
       "      <td>11.0</td>\n",
       "      <td>6</td>\n",
       "    </tr>\n",
       "  </tbody>\n",
       "</table>\n",
       "<p>1319 rows × 12 columns</p>\n",
       "</div>"
      ],
      "text/plain": [
       "      fixed_acidity  volatile_acidity  citric_acid  residual_sugar  chlorides  \\\n",
       "0               7.4              0.70         0.00             1.9      0.076   \n",
       "1               7.8              0.88         0.00             2.6      0.098   \n",
       "2               7.8              0.76         0.04             2.3      0.092   \n",
       "4               7.4              0.70         0.00             1.9      0.076   \n",
       "5               7.4              0.66         0.00             1.8      0.075   \n",
       "...             ...               ...          ...             ...        ...   \n",
       "1592            6.3              0.51         0.13             2.3      0.076   \n",
       "1593            6.8              0.62         0.08             1.9      0.068   \n",
       "1595            5.9              0.55         0.10             2.2      0.062   \n",
       "1596            6.3              0.51         0.13             2.3      0.076   \n",
       "1598            6.0              0.31         0.47             3.6      0.067   \n",
       "\n",
       "      free_sulfur_dioxide  total_sulfur_dioxide  density    pH  sulphates  \\\n",
       "0                    11.0                  34.0  0.99780  3.51       0.56   \n",
       "1                    25.0                  67.0  0.99680  3.20       0.68   \n",
       "2                    15.0                  54.0  0.99700  3.26       0.65   \n",
       "4                    11.0                  34.0  0.99780  3.51       0.56   \n",
       "5                    13.0                  40.0  0.99780  3.51       0.56   \n",
       "...                   ...                   ...      ...   ...        ...   \n",
       "1592                 29.0                  40.0  0.99574  3.42       0.75   \n",
       "1593                 28.0                  38.0  0.99651  3.42       0.82   \n",
       "1595                 39.0                  51.0  0.99512  3.52       0.76   \n",
       "1596                 29.0                  40.0  0.99574  3.42       0.75   \n",
       "1598                 18.0                  42.0  0.99549  3.39       0.66   \n",
       "\n",
       "      alcohol  quality  \n",
       "0         9.4        5  \n",
       "1         9.8        5  \n",
       "2         9.8        5  \n",
       "4         9.4        5  \n",
       "5         9.4        5  \n",
       "...       ...      ...  \n",
       "1592     11.0        6  \n",
       "1593      9.5        6  \n",
       "1595     11.2        6  \n",
       "1596     11.0        6  \n",
       "1598     11.0        6  \n",
       "\n",
       "[1319 rows x 12 columns]"
      ]
     },
     "execution_count": 35,
     "metadata": {},
     "output_type": "execute_result"
    }
   ],
   "source": [
    "main_df = pd.concat([main_df, fives], axis=0)\n",
    "main_df = pd.concat([main_df, sixes], axis=0)\n",
    "main_df"
   ]
  },
  {
   "cell_type": "code",
   "execution_count": 36,
   "id": "71e13a18",
   "metadata": {
    "scrolled": false
   },
   "outputs": [],
   "source": [
    "# reset the annoying indexes and remove them\n",
    "\n",
    "main_df = main_df.reset_index(drop=True)"
   ]
  },
  {
   "cell_type": "code",
   "execution_count": 37,
   "id": "2ea3c0b6",
   "metadata": {
    "scrolled": false
   },
   "outputs": [
    {
     "name": "stdout",
     "output_type": "stream",
     "text": [
      "Regression Models:\n",
      "Linear Regression\n",
      "0.20816831884482767 0.2656257441781107 \n",
      "\n",
      "Lasso Regression\n",
      "0.0 -0.00012456158790641325 \n",
      "\n",
      "Ridge Regression\n",
      "0.20816794747125755 0.26561037940821197 \n",
      "\n",
      "Decision Tree Regressor\n",
      "1.0 -0.4569238630556971 \n",
      "\n",
      "Random Forest Regressor\n",
      "0.795365151038904 0.380832412288416 \n",
      "\n",
      "Gradient Boosting Regressor\n",
      "0.2825263736854442 0.27138039693701743 \n",
      "\n",
      " Bagging Regressor\n",
      "0.75814462274906 0.3539921989780275 \n",
      "\n",
      "Support Vector Regressor\n",
      "0.4349856603215033 0.2849082589663292 \n",
      "\n",
      "Classification Models:\n",
      "Logistic Regression\n",
      "0.7085590465872156 0.7373737373737373\n",
      "Accuracy score: 73.74% \n",
      "\n",
      "Gaussian Naive Bayes\n",
      "0.6868905742145178 0.7348484848484849\n",
      "Accuracy score: 73.48% \n",
      "\n",
      "Decision Tree Classifier\n",
      "1.0 0.6590909090909091\n",
      "Accuracy score: 65.91% \n",
      "\n",
      "Random Forest Classifier\n",
      "0.9880823401950163 0.7777777777777778\n",
      "Accuracy score: 77.78% \n",
      "\n",
      "Gradient Boosting Classifier\n",
      "0.7280606717226435 0.76010101010101\n",
      "Accuracy score: 76.01% \n",
      "\n",
      "Support Vector Classifier\n",
      "0.7562296858071506 0.7702020202020202\n",
      "Accuracy score: 77.02% \n",
      "\n",
      "Bagging Classifier\n",
      "0.75814462274906 0.3539921989780275\n",
      "\n",
      "\n",
      "Models using K-Fold Cross Validation:\n",
      "Decision Tree Regressor\n",
      "[ 0.          0.         -1.26956368  0.          0.        ] \n",
      "\n",
      "Random Forest Regressor\n",
      "[ 0.          0.         -0.30218657  0.          0.        ] \n",
      "\n",
      "Decision Tree Classifier\n",
      "[0.45454545 0.39015152 0.4469697  0.47727273 0.41825095] \n",
      "\n",
      "Random Forest Classifier\n",
      "[0.45833333 0.4469697  0.5        0.36363636 0.44486692] \n",
      "\n",
      "Clustering models: \n",
      "K nearest neighbour model score: (0.24708053336466151, 0.24353781297904964)\n"
     ]
    }
   ],
   "source": [
    "model_draft(main_df, 0.3, 100)"
   ]
  },
  {
   "cell_type": "markdown",
   "id": "95d9af30",
   "metadata": {},
   "source": [
    "Not bad! I think there are some broad improvements across the board. Let's try removing columns with low variance that might be cluttering our dataset and see if accuracy improves.\n",
    "\n",
    "##### Note on Higher Train/Lower Test Scores vs Similar Train/Test Scores\n",
    "\n",
    "Take two of our models: ```Random Forest Classifier``` and ```Support Vector Classifier```. The difference between their train and test scores are about 21 and 1.5 respectively. My intuition tells me that between these models, we should trust the SVC more because it is possible that the RFC has started to overfit. Given that we have a broad 75% accuracy across the board - especially after trimming our dataset to the two most well represented targets - we may consider the possibility that the constraints of our dataset are the biggest driving factor when it comes to model accuracy."
   ]
  },
  {
   "cell_type": "markdown",
   "id": "0f68acc4",
   "metadata": {},
   "source": [
    "### 3b. Feature Selection by Low Variance\n",
    "\n",
    "## We can use PCA here instead of feature selection"
   ]
  },
  {
   "cell_type": "code",
   "execution_count": 45,
   "id": "0c5a4c01",
   "metadata": {},
   "outputs": [],
   "source": [
    "new_df = main_df"
   ]
  },
  {
   "cell_type": "code",
   "execution_count": 46,
   "id": "4d7249a0",
   "metadata": {},
   "outputs": [
    {
     "data": {
      "text/plain": [
       "fixed_acidity              2.832271\n",
       "volatile_acidity           0.028116\n",
       "citric_acid                0.035342\n",
       "residual_sugar             1.958972\n",
       "chlorides                  0.002260\n",
       "free_sulfur_dioxide      110.089096\n",
       "total_sulfur_dioxide    1070.207728\n",
       "density                    0.000003\n",
       "pH                         0.023209\n",
       "sulphates                  0.028001\n",
       "alcohol                    0.945472\n",
       "quality                    0.249924\n",
       "dtype: float64"
      ]
     },
     "execution_count": 46,
     "metadata": {},
     "output_type": "execute_result"
    }
   ],
   "source": [
    "new_df.var()"
   ]
  },
  {
   "cell_type": "code",
   "execution_count": 47,
   "id": "45751294",
   "metadata": {},
   "outputs": [],
   "source": [
    "# remove columns with low variance, like density, maybe chlorides\n",
    "new_df = new_df.drop('density', axis=1)"
   ]
  },
  {
   "cell_type": "code",
   "execution_count": 48,
   "id": "604a95e3",
   "metadata": {},
   "outputs": [
    {
     "data": {
      "text/plain": [
       "fixed_acidity              2.832271\n",
       "volatile_acidity           0.028116\n",
       "citric_acid                0.035342\n",
       "residual_sugar             1.958972\n",
       "chlorides                  0.002260\n",
       "free_sulfur_dioxide      110.089096\n",
       "total_sulfur_dioxide    1070.207728\n",
       "pH                         0.023209\n",
       "sulphates                  0.028001\n",
       "alcohol                    0.945472\n",
       "quality                    0.249924\n",
       "dtype: float64"
      ]
     },
     "execution_count": 48,
     "metadata": {},
     "output_type": "execute_result"
    }
   ],
   "source": [
    "new_df.var()"
   ]
  },
  {
   "cell_type": "code",
   "execution_count": 49,
   "id": "c2fa337a",
   "metadata": {
    "scrolled": true
   },
   "outputs": [
    {
     "name": "stdout",
     "output_type": "stream",
     "text": [
      "Regression Models:\n",
      "Linear Regression\n",
      "0.20808139878216048 0.26513365983529835 \n",
      "\n",
      "Lasso Regression\n",
      "0.0 -0.00012456158790641325 \n",
      "\n",
      "Ridge Regression\n",
      "0.20808103977339543 0.2651113295160593 \n",
      "\n",
      "Decision Tree Regressor\n",
      "1.0 -0.2646908533469594 \n",
      "\n",
      "Random Forest Regressor\n",
      "0.7982863256196407 0.3693140262525172 \n",
      "\n",
      "Gradient Boosting Regressor\n",
      "0.28081320145809396 0.27417952351101216 \n",
      "\n",
      " Bagging Regressor\n",
      "0.7580884186419172 0.3522085194685747 \n",
      "\n",
      "Support Vector Regressor\n",
      "0.42214145977614836 0.27085442339729415 \n",
      "\n",
      "Classification Models:\n",
      "Logistic Regression\n",
      "0.7118093174431203 0.7348484848484849\n",
      "Accuracy score: 73.48% \n",
      "\n",
      "Gaussian Naive Bayes\n",
      "0.6847237269772481 0.7171717171717171\n",
      "Accuracy score: 71.72% \n",
      "\n",
      "Decision Tree Classifier\n",
      "1.0 0.6994949494949495\n",
      "Accuracy score: 69.95% \n",
      "\n",
      "Random Forest Classifier\n",
      "0.9859154929577465 0.7651515151515151\n",
      "Accuracy score: 76.52% \n",
      "\n",
      "Gradient Boosting Classifier\n",
      "0.7302275189599133 0.7424242424242424\n",
      "Accuracy score: 74.24% \n",
      "\n",
      "Support Vector Classifier\n",
      "0.7540628385698809 0.7651515151515151\n",
      "Accuracy score: 76.52% \n",
      "\n",
      "Bagging Classifier\n",
      "0.7580884186419172 0.3522085194685747\n",
      "\n",
      "\n",
      "Models using K-Fold Cross Validation:\n",
      "Decision Tree Regressor\n",
      "[ 0.          0.         -1.33174351  0.          0.        ] \n",
      "\n",
      "Random Forest Regressor\n",
      "[ 0.          0.         -0.23256289  0.          0.        ] \n",
      "\n",
      "Decision Tree Classifier\n",
      "[0.50378788 0.43560606 0.40530303 0.48863636 0.49429658] \n",
      "\n",
      "Random Forest Classifier\n",
      "[0.48106061 0.49621212 0.5        0.39772727 0.42205323] \n",
      "\n",
      "Clustering models: \n",
      "K nearest neighbour model score: (0.22545856437969913, 0.23997138477261137)\n"
     ]
    }
   ],
   "source": [
    "model_draft(new_df, 0.3, 100)"
   ]
  },
  {
   "cell_type": "code",
   "execution_count": 50,
   "id": "67ae2ca2",
   "metadata": {
    "scrolled": true
   },
   "outputs": [],
   "source": [
    "new_df = new_df.drop('chlorides', axis=1)"
   ]
  },
  {
   "cell_type": "code",
   "execution_count": 51,
   "id": "6a4af49d",
   "metadata": {
    "scrolled": true
   },
   "outputs": [
    {
     "name": "stdout",
     "output_type": "stream",
     "text": [
      "Regression Models:\n",
      "Linear Regression\n",
      "0.2071693232228472 0.26123779539514325 \n",
      "\n",
      "Lasso Regression\n",
      "0.0 -0.00012456158790641325 \n",
      "\n",
      "Ridge Regression\n",
      "0.20716894914194406 0.2612134836650175 \n",
      "\n",
      "Decision Tree Regressor\n",
      "1.0 -0.20398569238630526 \n",
      "\n",
      "Random Forest Regressor\n",
      "0.7888290685404826 0.34921940448681144 \n",
      "\n",
      "Gradient Boosting Regressor\n",
      "0.2763605253997655 0.2723921784807526 \n",
      "\n",
      " Bagging Regressor\n",
      "0.7588493558035714 0.3431225453244763 \n",
      "\n",
      "Support Vector Regressor\n",
      "0.4074226662731837 0.2710544447190536 \n",
      "\n",
      "Classification Models:\n",
      "Logistic Regression\n",
      "0.7085590465872156 0.7323232323232324\n",
      "Accuracy score: 73.23% \n",
      "\n",
      "Gaussian Naive Bayes\n",
      "0.6890574214517876 0.7095959595959596\n",
      "Accuracy score: 70.96% \n",
      "\n",
      "Decision Tree Classifier\n",
      "1.0 0.7070707070707071\n",
      "Accuracy score: 70.71% \n",
      "\n",
      "Random Forest Classifier\n",
      "0.9837486457204767 0.76010101010101\n",
      "Accuracy score: 76.01% \n",
      "\n",
      "Gradient Boosting Classifier\n",
      "0.7172264355362947 0.7247474747474747\n",
      "Accuracy score: 72.47% \n",
      "\n",
      "Support Vector Classifier\n",
      "0.752979414951246 0.76010101010101\n",
      "Accuracy score: 76.01% \n",
      "\n",
      "Bagging Classifier\n",
      "0.7588493558035714 0.3431225453244763\n",
      "\n",
      "\n",
      "Models using K-Fold Cross Validation:\n",
      "Decision Tree Regressor\n",
      "[ 0.          0.         -1.20738385  0.          0.        ] \n",
      "\n",
      "Random Forest Regressor\n",
      "[ 0.          0.         -0.21607249  0.          0.        ] \n",
      "\n",
      "Decision Tree Classifier\n",
      "[0.4469697  0.44318182 0.46590909 0.4469697  0.51330798] \n",
      "\n",
      "Random Forest Classifier\n",
      "[0.45454545 0.4469697  0.56060606 0.38257576 0.44106464] \n",
      "\n",
      "Clustering models: \n",
      "K nearest neighbour model score: (0.22504651080827065, 0.22904445579969368)\n"
     ]
    }
   ],
   "source": [
    "model_draft(new_df, 0.3, 100)"
   ]
  },
  {
   "cell_type": "markdown",
   "id": "2a3f2d11",
   "metadata": {},
   "source": [
    "I'm not sure our model has improved, but we did get a jump in accuracy after dropping a second column. Let's try dropping a third and see how our model looks."
   ]
  },
  {
   "cell_type": "code",
   "execution_count": 52,
   "id": "5cc8c19f",
   "metadata": {
    "scrolled": true
   },
   "outputs": [
    {
     "data": {
      "text/plain": [
       "fixed_acidity              2.832271\n",
       "volatile_acidity           0.028116\n",
       "citric_acid                0.035342\n",
       "residual_sugar             1.958972\n",
       "free_sulfur_dioxide      110.089096\n",
       "total_sulfur_dioxide    1070.207728\n",
       "pH                         0.023209\n",
       "sulphates                  0.028001\n",
       "alcohol                    0.945472\n",
       "quality                    0.249924\n",
       "dtype: float64"
      ]
     },
     "execution_count": 52,
     "metadata": {},
     "output_type": "execute_result"
    }
   ],
   "source": [
    "new_df.var()"
   ]
  },
  {
   "cell_type": "code",
   "execution_count": 53,
   "id": "1f37126b",
   "metadata": {},
   "outputs": [],
   "source": [
    "new_df = new_df.drop('pH', axis=1)"
   ]
  },
  {
   "cell_type": "code",
   "execution_count": 54,
   "id": "155430e0",
   "metadata": {
    "scrolled": true
   },
   "outputs": [
    {
     "name": "stdout",
     "output_type": "stream",
     "text": [
      "Regression Models:\n",
      "Linear Regression\n",
      "0.20713009069066002 0.26126257010815446 \n",
      "\n",
      "Lasso Regression\n",
      "0.0 -0.00012456158790641325 \n",
      "\n",
      "Ridge Regression\n",
      "0.20712972005857988 0.26123826159370944 \n",
      "\n",
      "Decision Tree Regressor\n",
      "1.0 -0.2545733265201837 \n",
      "\n",
      "Random Forest Regressor\n",
      "0.7845013233916789 0.3442038384392614 \n",
      "\n",
      "Gradient Boosting Regressor\n",
      "0.2748475325292423 0.27333864943805086 \n",
      "\n",
      " Bagging Regressor\n",
      "0.7570091679276314 0.34606328543689346 \n",
      "\n",
      "Support Vector Regressor\n",
      "0.37019456907529935 0.2990946684256358 \n",
      "\n",
      "Classification Models:\n",
      "Logistic Regression\n",
      "0.7107258938244854 0.7348484848484849\n",
      "Accuracy score: 73.48% \n",
      "\n",
      "Gaussian Naive Bayes\n",
      "0.6847237269772481 0.7070707070707071\n",
      "Accuracy score: 70.71% \n",
      "\n",
      "Decision Tree Classifier\n",
      "1.0 0.6843434343434344\n",
      "Accuracy score: 68.43% \n",
      "\n",
      "Random Forest Classifier\n",
      "0.9837486457204767 0.7575757575757576\n",
      "Accuracy score: 75.76% \n",
      "\n",
      "Gradient Boosting Classifier\n",
      "0.7226435536294691 0.7247474747474747\n",
      "Accuracy score: 72.47% \n",
      "\n",
      "Support Vector Classifier\n",
      "0.7464788732394366 0.7575757575757576\n",
      "Accuracy score: 75.76% \n",
      "\n",
      "Bagging Classifier\n",
      "0.7570091679276314 0.34606328543689346\n",
      "\n",
      "\n",
      "Models using K-Fold Cross Validation:\n",
      "Decision Tree Regressor\n",
      "[ 0.          0.         -0.92757463  0.          0.        ] \n",
      "\n",
      "Random Forest Regressor\n",
      "[ 0.          0.         -0.16577621  0.          0.        ] \n",
      "\n",
      "Decision Tree Classifier\n",
      "[0.46212121 0.52272727 0.48863636 0.44318182 0.45627376] \n",
      "\n",
      "Random Forest Classifier\n",
      "[0.46969697 0.48484848 0.56439394 0.40530303 0.47148289] \n",
      "\n",
      "Clustering models: \n",
      "K nearest neighbour model score: (0.2446949600563908, 0.2566147164026573)\n"
     ]
    }
   ],
   "source": [
    "model_draft(new_df, 0.3, 100)"
   ]
  },
  {
   "cell_type": "markdown",
   "id": "3bf435bc",
   "metadata": {},
   "source": [
    "### Was Low Variance Filter a Suitable Feature Reduction Technique?\n",
    "\n",
    "No. We'll go back to using ```main_df``` and try some other stuff."
   ]
  },
  {
   "cell_type": "markdown",
   "id": "946e1e1f",
   "metadata": {},
   "source": [
    "### Test Hyperparameters of Best Model"
   ]
  },
  {
   "cell_type": "code",
   "execution_count": null,
   "id": "bab3bc3e",
   "metadata": {},
   "outputs": [],
   "source": [
    "x, y = get_xy_vars(df)"
   ]
  },
  {
   "cell_type": "code",
   "execution_count": null,
   "id": "cb68867d",
   "metadata": {},
   "outputs": [],
   "source": [
    "x_train, x_test, y_train, y_test = get_scaled_data(x, y, 0.3, 100)"
   ]
  },
  {
   "cell_type": "code",
   "execution_count": null,
   "id": "361f2233",
   "metadata": {},
   "outputs": [],
   "source": [
    "rfc_model = RandomForestClassifier(n_estimators=100, max_features=3, max_depth=10, random_state=100).fit(x_train, y_train)\n",
    "print(f'Random Forest Classifier model score: {rfc_model.score(x_train, y_train), rfc_model.score(x_test, y_test)}')\n",
    "print(f'Random Forest Classifier accuracy score: {round(accuracy_score(y_test, rfc_model.predict(x_test)) * 100, 2)}%')"
   ]
  },
  {
   "cell_type": "markdown",
   "id": "106fd815",
   "metadata": {},
   "source": [
    "### 3b.  Remove Outliers"
   ]
  },
  {
   "cell_type": "markdown",
   "id": "9d570f95",
   "metadata": {},
   "source": [
    "We've trimmed our dataset down to the two best represented values in the ```quality``` column. Let's put an x and y together and see if it performs better than earlier!"
   ]
  },
  {
   "cell_type": "code",
   "execution_count": 55,
   "id": "bcb54e7c",
   "metadata": {},
   "outputs": [
    {
     "name": "stdout",
     "output_type": "stream",
     "text": [
      "[ 8.25428355  0.53855951  0.25826384  2.50386657  0.08897271 16.36846096\n",
      " 48.94692949  0.99686731  3.31129644  0.64726308 10.2527167   5.48369977]\n"
     ]
    }
   ],
   "source": [
    "# let's calculate the mean of each column\n",
    "\n",
    "def get_column_means(dataframe):\n",
    "    means = []\n",
    "    for i in range(len(df.columns)):\n",
    "        means.append(np.mean(dataframe.iloc[:, i]))\n",
    "    return np.array(means)\n",
    "        \n",
    "print(get_column_means(main_df))"
   ]
  },
  {
   "cell_type": "code",
   "execution_count": 56,
   "id": "a20a8029",
   "metadata": {},
   "outputs": [
    {
     "name": "stdout",
     "output_type": "stream",
     "text": [
      "[1.68229718e+00 1.67615424e-01 1.87923339e-01 1.39910219e+00\n",
      " 4.75196222e-02 1.04883570e+01 3.27016261e+01 1.81446553e-03\n",
      " 1.52286797e-01 1.67270420e-01 9.71985008e-01 4.99734232e-01]\n"
     ]
    }
   ],
   "source": [
    "# and its standard deviation\n",
    "\n",
    "def get_column_deviations(dataframe):\n",
    "    deviations = []\n",
    "    for i in range(len(df.columns)):\n",
    "        deviations.append(np.std(dataframe.iloc[:, i]))\n",
    "    return np.array(deviations)\n",
    "        \n",
    "print(get_column_deviations(main_df))"
   ]
  },
  {
   "cell_type": "code",
   "execution_count": 87,
   "id": "ea0a1354",
   "metadata": {},
   "outputs": [],
   "source": [
    "def get_inliers(dataframe, within_std, col_names_to_exclude=[None]):\n",
    "    \n",
    "    # no_of_std is the number of standard deviations a cell value can lie within before the row is counted as an outlier.\n",
    "    # for instance, dataframe = [1, 2, 2, 4]\n",
    "    # mean is 9/4 = 2.25\n",
    "    # deviation is numerical distance from the mean\n",
    "    # standard deviation is the sum of the square root of a collections deviations from the mean\n",
    "    # deviations from 1 standard deviation are: 1.25, .25, .25, 1.75\n",
    "    # standard deviations squares these and sums them\n",
    "    \n",
    "    # within_std can take a float\n",
    "    # col_names_to_exclude is presumably a list of targets\n",
    "    \n",
    "    # get means and deviations \n",
    "    means = get_column_means(dataframe)\n",
    "    deviations = get_column_deviations(dataframe)\n",
    "    \n",
    "    inliers_df = pd.DataFrame(columns=dataframe.columns)\n",
    "    outliers_df = pd.DataFrame(columns=dataframe.columns)\n",
    "    \n",
    "    # iterate through every row of our dataframe\n",
    "    for row in dataframe.iterrows():\n",
    "        \n",
    "        # we then iterate through each column of the row\n",
    "        # we could use for i in range(len(means)) but it's less explicit\n",
    "        \n",
    "        for i in range(len(dataframe.columns)):\n",
    "            \n",
    "            # skip current column if its in list of column names to exclude\n",
    "            if dataframe.columns[i] in col_names_to_exclude:\n",
    "                break\n",
    "            \n",
    "            inlier = True\n",
    "            \n",
    "            # according to the sigma 3 rule, 95% of datapoints fall within first two standard deviations\n",
    "            # we therefore create upper and lower bounds representing column mean minus or plus 2 * std\n",
    "            lower_bound = means[i] - within_std * deviations[i]\n",
    "            upper_bound = means[i] + within_std * deviations[i]\n",
    "            \n",
    "            # get value of current cell\n",
    "            # row[0] contains the index, row[1] contains the data... we can access each row cell with row[1][i]\n",
    "            cell_value = row[1][i]\n",
    "            \n",
    "            if cell_value >= lower_bound and cell_value <= upper_bound:\n",
    "                continue\n",
    "            else:\n",
    "                inlier = False\n",
    "                break\n",
    "        \n",
    "        # convert row to dataframe, retain structure\n",
    "        row_as_df = pd.DataFrame(row[1]).transpose()\n",
    "        \n",
    "        if inlier:\n",
    "            inliers_df = pd.concat([inliers_df, row_as_df], axis=0)\n",
    "        if not inlier:\n",
    "            outliers_df = pd.concat([outliers_df, row_as_df], axis=0)\n",
    "        \n",
    "    return inliers_df, outliers_df"
   ]
  },
  {
   "cell_type": "code",
   "execution_count": 85,
   "id": "57a63639",
   "metadata": {},
   "outputs": [],
   "source": [
    "# make sure our dataset contains the right datatypes\n"
   ]
  },
  {
   "cell_type": "markdown",
   "id": "2a31f16b",
   "metadata": {},
   "source": [
    "Let's put our refined dataset to the test and see what it can predict!"
   ]
  },
  {
   "cell_type": "code",
   "execution_count": 92,
   "id": "2c2f81d8",
   "metadata": {
    "scrolled": false
   },
   "outputs": [
    {
     "name": "stdout",
     "output_type": "stream",
     "text": [
      "\n",
      "Current standard deviation is:  1.5 \n",
      "\n",
      "Regression Models:\n",
      "Linear Regression\n",
      "0.22344602536904667 0.1418387329178088 \n",
      "\n",
      "Lasso Regression\n",
      "0.0 -0.007687199687644197 \n",
      "\n",
      "Ridge Regression\n",
      "0.22343714125103986 0.14291963182531553 \n",
      "\n",
      "Decision Tree Regressor\n",
      "1.0 -0.21580361504640933 \n",
      "\n",
      "Random Forest Regressor\n",
      "0.8554149629695549 0.26395916964303534 \n",
      "\n",
      "Gradient Boosting Regressor\n",
      "0.3013307187038423 0.15865336803982588 \n",
      "\n",
      " Bagging Regressor\n",
      "0.7330245237493229 0.21276048339032738 \n",
      "\n",
      "Support Vector Regressor\n",
      "0.5835738259527643 0.057053556238053416 \n",
      "\n",
      "Classification Models:\n",
      "Logistic Regression\n",
      "0.6919431279620853 0.6740331491712708\n",
      "Accuracy score: 67.4% \n",
      "\n",
      "Gaussian Naive Bayes\n",
      "0.6800947867298578 0.7071823204419889\n",
      "Accuracy score: 70.72% \n",
      "\n",
      "Decision Tree Classifier\n",
      "1.0 0.6795580110497238\n",
      "Accuracy score: 67.96% \n",
      "\n",
      "Random Forest Classifier\n",
      "1.0 0.7292817679558011\n",
      "Accuracy score: 72.93% \n",
      "\n",
      "Gradient Boosting Classifier\n",
      "0.7109004739336493 0.6850828729281768\n",
      "Accuracy score: 68.51% \n",
      "\n",
      "Support Vector Classifier\n",
      "0.8080568720379147 0.6906077348066298\n",
      "Accuracy score: 69.06% \n",
      "\n",
      "Bagging Classifier\n",
      "0.7330245237493229 0.21276048339032738\n",
      "\n",
      "\n",
      "Models using K-Fold Cross Validation:\n",
      "Decision Tree Regressor\n",
      "[ 0.          0.         -1.24457763  0.          0.        ] \n",
      "\n",
      "Random Forest Regressor\n",
      "[ 0.          0.         -0.50291086  0.          0.        ] \n",
      "\n",
      "Decision Tree Classifier\n",
      "[0.44628099 0.52892562 0.45454545 0.31666667 0.375     ] \n",
      "\n",
      "Random Forest Classifier\n",
      "[0.33884298 0.43801653 0.39669421 0.29166667 0.325     ] \n",
      "\n",
      "Clustering models: \n",
      "K nearest neighbour model score: (0.23456768105472303, 0.10865015876893003)\n",
      "\n",
      "Current standard deviation is:  2 \n",
      "\n",
      "Regression Models:\n",
      "Linear Regression\n",
      "0.23531977787364278 0.14979488153436538 \n",
      "\n",
      "Lasso Regression\n",
      "0.0 -0.00550845235521269 \n",
      "\n",
      "Ridge Regression\n",
      "0.2353164621153161 0.15046735155771074 \n",
      "\n",
      "Decision Tree Regressor\n",
      "1.0 -0.5734797297297292 \n",
      "\n",
      "Random Forest Regressor\n",
      "0.8358662863542926 0.24109949126373775 \n",
      "\n",
      "Gradient Boosting Regressor\n",
      "0.2963277586560449 0.17787957397410825 \n",
      "\n",
      " Bagging Regressor\n",
      "0.743764874036215 0.21873632538006804 \n",
      "\n",
      "Support Vector Regressor\n",
      "0.5272557051278559 0.04080640437420702 \n",
      "\n",
      "Classification Models:\n",
      "Logistic Regression\n",
      "0.7254290171606864 0.6413043478260869\n",
      "Accuracy score: 64.13% \n",
      "\n",
      "Gaussian Naive Bayes\n",
      "0.6879875195007801 0.6811594202898551\n",
      "Accuracy score: 68.12% \n",
      "\n",
      "Decision Tree Classifier\n",
      "1.0 0.6521739130434783\n",
      "Accuracy score: 65.22% \n",
      "\n",
      "Random Forest Classifier\n",
      "0.9937597503900156 0.7355072463768116\n",
      "Accuracy score: 73.55% \n",
      "\n",
      "Gradient Boosting Classifier\n",
      "0.7581903276131046 0.7101449275362319\n",
      "Accuracy score: 71.01% \n",
      "\n",
      "Support Vector Classifier\n",
      "0.797191887675507 0.6630434782608695\n",
      "Accuracy score: 66.3% \n",
      "\n",
      "Bagging Classifier\n",
      "0.743764874036215 0.21873632538006804\n",
      "\n",
      "\n",
      "Models using K-Fold Cross Validation:\n",
      "Decision Tree Regressor\n",
      "[ 0.          0.         -1.38120482  0.          0.        ] \n",
      "\n",
      "Random Forest Regressor\n",
      "[ 0.          0.         -0.26256545  0.          0.        ] \n",
      "\n",
      "Decision Tree Classifier\n",
      "[0.41847826 0.50543478 0.42076503 0.42076503 0.40983607] \n",
      "\n",
      "Random Forest Classifier\n",
      "[0.38586957 0.44565217 0.50819672 0.41530055 0.39344262] \n",
      "\n",
      "Clustering models: \n",
      "K nearest neighbour model score: (0.24224464563862946, 0.08905722128378413)\n",
      "\n",
      "Current standard deviation is:  2.5 \n",
      "\n",
      "Regression Models:\n",
      "Linear Regression\n",
      "0.22988815242165206 0.2501580210217649 \n",
      "\n",
      "Lasso Regression\n",
      "0.0 -0.01835382095379079 \n",
      "\n",
      "Ridge Regression\n",
      "0.22988669286696595 0.2501406523765468 \n",
      "\n",
      "Decision Tree Regressor\n",
      "1.0 -0.24672587686286285 \n",
      "\n",
      "Random Forest Regressor\n",
      "0.8245957897299898 0.3030851490237796 \n",
      "\n",
      "Gradient Boosting Regressor\n",
      "0.29465831056883807 0.23502280564265476 \n",
      "\n",
      " Bagging Regressor\n",
      "0.7661944364601381 0.27431302273069424 \n",
      "\n",
      "Support Vector Regressor\n",
      "0.48079480536976127 0.23684784487041355 \n",
      "\n",
      "Classification Models:\n",
      "Logistic Regression\n",
      "0.7169069462647444 0.7317073170731707\n",
      "Accuracy score: 73.17% \n",
      "\n",
      "Gaussian Naive Bayes\n",
      "0.6946264744429882 0.7195121951219512\n",
      "Accuracy score: 71.95% \n",
      "\n",
      "Decision Tree Classifier\n",
      "1.0 0.6676829268292683\n",
      "Accuracy score: 66.77% \n",
      "\n",
      "Random Forest Classifier\n",
      "0.9908256880733946 0.7469512195121951\n",
      "Accuracy score: 74.7% \n",
      "\n",
      "Gradient Boosting Classifier\n",
      "0.7575360419397117 0.7195121951219512\n",
      "Accuracy score: 71.95% \n",
      "\n",
      "Support Vector Classifier\n",
      "0.7863695937090432 0.7286585365853658\n",
      "Accuracy score: 72.87% \n",
      "\n",
      "Bagging Classifier\n",
      "0.7661944364601381 0.27431302273069424\n",
      "\n",
      "\n",
      "Models using K-Fold Cross Validation:\n",
      "Decision Tree Regressor\n",
      "[ 0.          0.         -1.12151984  0.          0.        ] \n",
      "\n",
      "Random Forest Regressor\n",
      "[ 0.          0.         -0.28406469  0.          0.        ] \n",
      "\n",
      "Decision Tree Classifier\n",
      "[0.50684932 0.4587156  0.4587156  0.3853211  0.46330275] \n",
      "\n",
      "Random Forest Classifier\n",
      "[0.40639269 0.43577982 0.47706422 0.4266055  0.3853211 ] \n",
      "\n",
      "Clustering models: \n",
      "K nearest neighbour model score: (0.2586490732337817, 0.19882432635857306)\n"
     ]
    }
   ],
   "source": [
    "deviations = [1.5, 2, 2.5]\n",
    "\n",
    "for deviation in deviations:\n",
    "    \n",
    "    print('\\nCurrent standard deviation is: ', str(deviation), '\\n')\n",
    "    inliers, outliers = get_inliers(main_df, deviation)\n",
    "    inliers = inliers.astype('float64')\n",
    "    model_draft(inliers, 0.3, 100)"
   ]
  },
  {
   "cell_type": "markdown",
   "id": "9bdf7c9d",
   "metadata": {},
   "source": [
    "Doesn't seem to increase accuracy, but worth a try."
   ]
  },
  {
   "cell_type": "markdown",
   "id": "9c76bbec",
   "metadata": {},
   "source": [
    "## 4. Data Exploration\n",
    "\n",
    "Now we've cleaned our data and removed outliers - including rows containing underrepesented data values - we can explore the data. First let's look for **colinearities**. Colinearities occur where two or more predictor variables/features are closely correlated. This can make it difficult to predict one value from the other. Though they are mostly a problem in regression models, they can also impact our ability to understand classification ones. Our strongest model out the gate is a ```logistic regression``` one, and that is the one I want to stick with, so will try to find and remove colinearities."
   ]
  },
  {
   "cell_type": "markdown",
   "id": "ea8aba62",
   "metadata": {},
   "source": [
    "### 4a. Calculate Colinearities using Variance Inflation Factor\n",
    "\n",
    "Variance Inflation Factor is a metric that tells us how closely correlated features are. The higher the VIF, the higher the correlation. It tells us how much a variable is contributing to the standard error in regression-based calculations. When there are big multicolinearity issues, VIF values will be big to reflect that. \n",
    "\n",
    "When we have identified these values, we can eliminate or combine collinear variables to solve multicolinearity.\n",
    "\n",
    "Let's take a look at our dataset's VIF values."
   ]
  },
  {
   "cell_type": "code",
   "execution_count": null,
   "id": "89bfce75",
   "metadata": {},
   "outputs": [],
   "source": [
    "vif_df = main_df.drop(['quality'], axis=1)"
   ]
  },
  {
   "cell_type": "code",
   "execution_count": null,
   "id": "8d70780c",
   "metadata": {},
   "outputs": [],
   "source": [
    "vif_df = main_df"
   ]
  },
  {
   "cell_type": "code",
   "execution_count": null,
   "id": "04acde20",
   "metadata": {
    "scrolled": true
   },
   "outputs": [],
   "source": [
    "def get_vif(dataframe):\n",
    "    for i in range(len(dataframe.columns)):\n",
    "        print(dataframe.columns[i], variance_inflation_factor(dataframe, i))\n",
    "\n",
    "get_vif(main_df), print(\"\\n\"), get_vif(vif_df)\n",
    "\n",
    "# do i include target column when inspecting VIF?"
   ]
  },
  {
   "cell_type": "markdown",
   "id": "04dcf38f",
   "metadata": {},
   "source": [
    "Let's take out the column with the highest VIF and see how that impacts the VIF of the rest of the columns:"
   ]
  },
  {
   "cell_type": "code",
   "execution_count": null,
   "id": "a2c04048",
   "metadata": {
    "scrolled": true
   },
   "outputs": [],
   "source": [
    "vif_df = vif_df.drop('density', axis=1)\n",
    "get_vif(new_df)"
   ]
  },
  {
   "cell_type": "code",
   "execution_count": null,
   "id": "c7abdb3f",
   "metadata": {},
   "outputs": [],
   "source": [
    "model_draft(vif_df, 0.3, 100)"
   ]
  },
  {
   "cell_type": "code",
   "execution_count": null,
   "id": "f878a764",
   "metadata": {},
   "outputs": [],
   "source": [
    "get_vif(vif_df)"
   ]
  },
  {
   "cell_type": "markdown",
   "id": "7787bbe4",
   "metadata": {},
   "source": [
    "Wow! That appears to have helped a lot in regards to VIF (not so much accuracy). Let's try another column"
   ]
  },
  {
   "cell_type": "code",
   "execution_count": null,
   "id": "27d15f93",
   "metadata": {
    "scrolled": false
   },
   "outputs": [],
   "source": [
    "vif_df = vif_df.drop('pH', axis=1)\n",
    "get_vif(vif_df)"
   ]
  },
  {
   "cell_type": "code",
   "execution_count": null,
   "id": "645d124a",
   "metadata": {
    "scrolled": true
   },
   "outputs": [],
   "source": [
    "model_draft(vif_df, 0.3, 100)"
   ]
  },
  {
   "cell_type": "markdown",
   "id": "0bd1e144",
   "metadata": {},
   "source": [
    "#### Has Removing Columns with High Variance Inflation Factor Helped?\n",
    "\n",
    "No. Let's go back to using ```main_df``` and try to edit or combine columns with a high VIF in order to get a better result."
   ]
  },
  {
   "cell_type": "markdown",
   "id": "528c1f4d",
   "metadata": {},
   "source": [
    "### 4b. Data Exploration using Graphs"
   ]
  },
  {
   "cell_type": "code",
   "execution_count": 40,
   "id": "c1fccf1f",
   "metadata": {
    "scrolled": true
   },
   "outputs": [],
   "source": [
    "corr = main_df.corr()"
   ]
  },
  {
   "cell_type": "code",
   "execution_count": 41,
   "id": "9cfd2fa7",
   "metadata": {},
   "outputs": [
    {
     "data": {
      "image/png": "[encoded data removed]",
      "text/plain": [
       "<Figure size 576x576 with 2 Axes>"
      ]
     },
     "metadata": {
      "needs_background": "light"
     },
     "output_type": "display_data"
    }
   ],
   "source": [
    "plt.subplots(figsize=(8,8))\n",
    "sns.heatmap(corr,cmap= 'crest',annot=True)\n",
    "plt.show()"
   ]
  },
  {
   "cell_type": "markdown",
   "id": "cc7d0c61",
   "metadata": {},
   "source": [
    "This is a heatmap of feature colinearity containing values between -1 (directly negatively correlated, 0 (not correlated) and 1 (directly correlated). High feature correlation can introduce noise to a dataset. When we have features that are highly correlated, we have a number of options:\n",
    "\n",
    "1. Change them\n",
    "2. Combine them\n",
    "3. Remove them\n",
    "\n",
    "Moderate correlation starts to appear at values of 0.6~, so as we can see, we have a number of moderately correlated features. Fixed acidity is moderately correlated to 3 other features, ```citric_acid```, ```density``` and ```pH```.\n",
    "\n",
    "Let's remove ```fixed_acidity``` and see if it has any bearing on our accuracy."
   ]
  },
  {
   "cell_type": "code",
   "execution_count": 42,
   "id": "46e9834c",
   "metadata": {},
   "outputs": [],
   "source": [
    "data_exp_df = main_df.drop(['fixed_acidity'], axis=1)"
   ]
  },
  {
   "cell_type": "code",
   "execution_count": 44,
   "id": "0aec1d47",
   "metadata": {},
   "outputs": [
    {
     "name": "stdout",
     "output_type": "stream",
     "text": [
      "Regression Models:\n",
      "Linear Regression\n",
      "0.20699212005921097 0.2651619226776418 \n",
      "\n",
      "Lasso Regression\n",
      "0.0 -0.00012456158790641325 \n",
      "\n",
      "Ridge Regression\n",
      "0.2069916246999759 0.2651646991051928 \n",
      "\n",
      "Decision Tree Regressor\n",
      "1.0 -0.28492590700051057 \n",
      "\n",
      "Random Forest Regressor\n",
      "0.8050116581320969 0.36298490246568904 \n",
      "\n",
      "Gradient Boosting Regressor\n",
      "0.279670876635129 0.2689582524109192 \n",
      "\n",
      " Bagging Regressor\n",
      "0.7564340886137217 0.35481100030659185 \n",
      "\n",
      "Support Vector Regressor\n",
      "0.4255736881945782 0.2893234066138053 \n",
      "\n",
      "Classification Models:\n",
      "Logistic Regression\n",
      "0.71397616468039 0.7373737373737373\n",
      "Accuracy score: 73.74% \n",
      "\n",
      "Gaussian Naive Bayes\n",
      "0.685807150595883 0.7424242424242424\n",
      "Accuracy score: 74.24% \n",
      "\n",
      "Decision Tree Classifier\n",
      "1.0 0.7070707070707071\n",
      "Accuracy score: 70.71% \n",
      "\n",
      "Random Forest Classifier\n",
      "0.9859154929577465 0.7676767676767676\n",
      "Accuracy score: 76.77% \n",
      "\n",
      "Gradient Boosting Classifier\n",
      "0.7258938244853738 0.7550505050505051\n",
      "Accuracy score: 75.51% \n",
      "\n",
      "Support Vector Classifier\n",
      "0.752979414951246 0.7550505050505051\n",
      "Accuracy score: 75.51% \n",
      "\n",
      "Bagging Classifier\n",
      "0.7564340886137217 0.35481100030659185\n",
      "\n",
      "\n",
      "Models using K-Fold Cross Validation:\n",
      "Decision Tree Regressor\n",
      "[ 0.          0.         -1.14520403  0.          0.        ] \n",
      "\n",
      "Random Forest Regressor\n",
      "[ 0.          0.         -0.29794549  0.          0.        ] \n",
      "\n",
      "Decision Tree Classifier\n",
      "[0.4280303  0.37121212 0.51893939 0.5        0.50190114] \n",
      "\n",
      "Random Forest Classifier\n",
      "[0.45075758 0.44318182 0.48484848 0.36742424 0.47528517] \n",
      "\n",
      "Clustering models: \n",
      "K nearest neighbour model score: (0.2602770911654133, 0.2612687787429743)\n"
     ]
    }
   ],
   "source": [
    "model_draft(data_exp_df, 3.0, 100)"
   ]
  },
  {
   "cell_type": "code",
   "execution_count": null,
   "id": "759c8cc7",
   "metadata": {},
   "outputs": [],
   "source": [
    "# # scale our values using MinMaxScaler. This is regularisation\n",
    "# from sklearn.preprocessing import MinMaxScaler\n",
    "\n",
    "# cols = list(x_train.columns)\n",
    "\n",
    "# scaler = MinMaxScaler()\n",
    "# x_train = scaler.fit_transform(x_train)\n",
    "# x_train = pd.DataFrame(x_train, columns=[cols])\n",
    "\n",
    "# x_test = scaler.transform(x_test)\n",
    "# x_test = pd.DataFrame(x_test, columns=[cols])\n",
    "\n",
    "# x_train.describe()"
   ]
  },
  {
   "cell_type": "code",
   "execution_count": null,
   "id": "9eca0c60",
   "metadata": {
    "scrolled": true
   },
   "outputs": [],
   "source": [
    "sns.swarmplot(x=\"quality\",y=\"alcohol\",data=main_df)"
   ]
  },
  {
   "cell_type": "markdown",
   "id": "b5a2365a",
   "metadata": {},
   "source": [
    "We use a feature selector to  filter those thresholds which have more or less the same values across the board [they exhibit 'low variance']. As we can see, this has reduced the size of our dataset by 2 columns. Let's see what columns it removed:"
   ]
  },
  {
   "cell_type": "markdown",
   "id": "35e8a6d3",
   "metadata": {},
   "source": [
    "#### Feature Engineering"
   ]
  },
  {
   "cell_type": "markdown",
   "id": "b4740f4b",
   "metadata": {},
   "source": [
    "- Feature Importance: Estimate usefulness of features\n",
    "- Feature Construction: Manually creating new features from raw data\n",
    "- Feature Extraction: Automated formulation of new features from raw data\n",
    "- Feature Transformations: Adjusting the features to improve the accuracy and performance of the model\n",
    "- Feature Selection: Select a subset of features that are important to model"
   ]
  },
  {
   "cell_type": "markdown",
   "id": "83bbcffe",
   "metadata": {},
   "source": [
    "A low train and test score indicates underfitting. Let's try a more complex model:"
   ]
  },
  {
   "cell_type": "code",
   "execution_count": null,
   "id": "c52e82e9",
   "metadata": {},
   "outputs": [],
   "source": [
    "# lets do some evaluation for random forest model using cross validation\n",
    "rfc_eval = cross_val_score(estimator = rf_model, X = x_train, y = y_train, cv = 10)\n",
    "rfc_eval.mean()"
   ]
  },
  {
   "cell_type": "markdown",
   "id": "23599734",
   "metadata": {},
   "source": [
    "#### Apply Low Variance Filter"
   ]
  },
  {
   "cell_type": "code",
   "execution_count": null,
   "id": "cfa3552b",
   "metadata": {},
   "outputs": [],
   "source": [
    "# low variance filter\n",
    "\n",
    "normalize = normalize(df)\n",
    "\n",
    "# Save the result in a data frame called data_scaled, and then use the .var() function to calculate the variance-\n",
    "\n",
    "df_scaled = pd.DataFrame(normalize)\n",
    "df_scaled.var()\n",
    "\n",
    "#saving the names of variables having variance more than a threshold value\n",
    "\n",
    "variance = df_scaled.var()\n",
    "columns = df.columns\n",
    "\n",
    "cols = [ ]\n",
    "\n",
    "for i in range(0,len(variance)):\n",
    "    if variance[i]>=0.006: #setting the threshold as 1%\n",
    "        cols.append(columns[i])\n",
    "        \n",
    "# creating a new dataframe using the above variables\n",
    "new_df = df[cols]\n",
    "\n",
    "# first five rows of the new data\n",
    "new_df.head()\n",
    "\n",
    "new_df.var()"
   ]
  },
  {
   "cell_type": "code",
   "execution_count": null,
   "id": "b3afab87",
   "metadata": {},
   "outputs": [],
   "source": [
    "model_draft(new_df, 0.3, 100)"
   ]
  },
  {
   "cell_type": "markdown",
   "id": "2235e9fa",
   "metadata": {},
   "source": [
    "## Improving the Model\n",
    "\n",
    "We have a good baseline for a model, but we can do better. Let's take a look at our features and try to find colinearities. If we do, it means we can eliminate columns from our dataset - Potentially improving the accuracy by reducing noise. Let's try that now.\n",
    "\n",
    "We'll start by creating a correlation matrix of our features. We are looking for closely related features that may be producing noise in our data."
   ]
  },
  {
   "cell_type": "code",
   "execution_count": null,
   "id": "e48be20b",
   "metadata": {
    "scrolled": false
   },
   "outputs": [],
   "source": [
    "# rf_model.feature_importances_"
   ]
  },
  {
   "cell_type": "code",
   "execution_count": null,
   "id": "f07b0582",
   "metadata": {},
   "outputs": [],
   "source": [
    "# get correlation matrix models and drop highly corelated ones\n",
    "\n",
    "# upper_tri = cor_matrix.where(np.triu(np.ones(cor_matrix.shape),k=1).astype(np.bool))\n",
    "#     print(upper_tri)\n",
    "# to_drop = [column for column upper_tri.columns if any(upper_tri[column] > 0.95)]"
   ]
  }
 ],
 "metadata": {
  "kernelspec": {
   "display_name": "Python 3 (ipykernel)",
   "language": "python",
   "name": "python3"
  },
  "language_info": {
   "codemirror_mode": {
    "name": "ipython",
    "version": 3
   },
   "file_extension": ".py",
   "mimetype": "text/x-python",
   "name": "python",
   "nbconvert_exporter": "python",
   "pygments_lexer": "ipython3",
   "version": "3.9.12"
  }
 },
 "nbformat": 4,
 "nbformat_minor": 5
}
